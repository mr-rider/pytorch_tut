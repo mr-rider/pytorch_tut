{
  "nbformat": 4,
  "nbformat_minor": 0,
  "metadata": {
    "colab": {
      "name": "homework8_pytorch.ipynb",
      "provenance": [],
      "collapsed_sections": []
    },
    "kernelspec": {
      "name": "python3",
      "display_name": "Python 3"
    },
    "language_info": {
      "name": "python"
    }
  },
  "cells": [
    {
      "cell_type": "code",
      "execution_count": null,
      "metadata": {
        "id": "cLszBQ9JyZNi"
      },
      "outputs": [],
      "source": [
        "import torch\n",
        "from torch import nn\n",
        "\n",
        "import math\n",
        "import matplotlib.pyplot as plt"
      ]
    },
    {
      "cell_type": "code",
      "source": [
        "# y = sin(x)/x - x/10"
      ],
      "metadata": {
        "id": "5hjoZRvRzrK_"
      },
      "execution_count": null,
      "outputs": []
    },
    {
      "cell_type": "code",
      "source": [
        "torch.manual_seed(42)"
      ],
      "metadata": {
        "colab": {
          "base_uri": "https://localhost:8080/"
        },
        "id": "OWgLtuW6yqB_",
        "outputId": "daaf4d8e-79c8-478c-8243-b1be9667e127"
      },
      "execution_count": null,
      "outputs": [
        {
          "output_type": "execute_result",
          "data": {
            "text/plain": [
              "<torch._C.Generator at 0x7fd7bdbafe90>"
            ]
          },
          "metadata": {},
          "execution_count": 3
        }
      ]
    },
    {
      "cell_type": "code",
      "source": [
        "# Preparing dataset\n",
        "\n",
        "train_data_length = 1024\n",
        "train_data = torch.zeros((train_data_length, 2))\n",
        "train_data[:, 0] = 8 * math.pi * torch.rand(train_data_length)\n",
        "train_data[:, 1] = torch.sin(train_data[:, 0])/train_data[:, 0] - train_data[:, 0]/10\n",
        "train_labels = torch.zeros(train_data_length)\n",
        "train_set = [(train_data[i], train_labels[i]) for i in range(train_data_length)]"
      ],
      "metadata": {
        "id": "mEPNBpaPy2oE"
      },
      "execution_count": null,
      "outputs": []
    },
    {
      "cell_type": "code",
      "source": [
        "plt.plot(train_data[:, 0], train_data[:, 1], \".\")"
      ],
      "metadata": {
        "colab": {
          "base_uri": "https://localhost:8080/",
          "height": 282
        },
        "id": "Qe9Xc0APzoOP",
        "outputId": "1a77962e-eafe-4acc-fd88-10e5b38435b1"
      },
      "execution_count": null,
      "outputs": [
        {
          "output_type": "execute_result",
          "data": {
            "text/plain": [
              "[<matplotlib.lines.Line2D at 0x7fd7b6095550>]"
            ]
          },
          "metadata": {},
          "execution_count": 5
        },
        {
          "output_type": "display_data",
          "data": {
            "text/plain": [
              "<Figure size 432x288 with 1 Axes>"
            ],
            "image/png": "[encoded data removed]"
          },
          "metadata": {
            "needs_background": "light"
          }
        }
      ]
    },
    {
      "cell_type": "code",
      "source": [
        "batch_size = 32\n",
        "train_loader = torch.utils.data.DataLoader(train_set, batch_size=batch_size, shuffle=True)"
      ],
      "metadata": {
        "id": "fyfEMsspyH-V"
      },
      "execution_count": null,
      "outputs": []
    },
    {
      "cell_type": "code",
      "source": [
        "class Discriminator(nn.Module):\n",
        "  def __init__(self):\n",
        "    super().__init__()\n",
        "    self.model = nn.Sequential(\n",
        "        nn.Linear(2, 256),\n",
        "        nn.ReLU(),\n",
        "        nn.Dropout(0.3),\n",
        "        nn.Linear(256, 128),\n",
        "        nn.ReLU(),\n",
        "        nn.Dropout(0.3),\n",
        "        nn.Linear(128, 64),\n",
        "        nn.ReLU(),\n",
        "        nn.Dropout(0.3),\n",
        "        nn.Linear(64, 1),\n",
        "        nn.Sigmoid()\n",
        "    )\n",
        "\n",
        "  def forward(self, x):\n",
        "    output = self.model(x)\n",
        "    return output\n"
      ],
      "metadata": {
        "id": "K0g7xQqG7Y9S"
      },
      "execution_count": null,
      "outputs": []
    },
    {
      "cell_type": "code",
      "source": [
        "discriminator = Discriminator()"
      ],
      "metadata": {
        "id": "BNNjkICi8hqa"
      },
      "execution_count": null,
      "outputs": []
    },
    {
      "cell_type": "code",
      "source": [
        "class Generator(nn.Module):\n",
        "  def __init__(self):\n",
        "    super().__init__()\n",
        "    self.model = nn.Sequential(\n",
        "        nn.Linear(2, 16),\n",
        "        nn.ReLU(),\n",
        "        nn.Linear(16, 32),\n",
        "        nn.ReLU(),\n",
        "        nn.Linear(32, 2)\n",
        "    )\n",
        "\n",
        "  def forward(self, x):\n",
        "    output = self.model(x)\n",
        "    return output"
      ],
      "metadata": {
        "id": "TdkxgAES83RX"
      },
      "execution_count": null,
      "outputs": []
    },
    {
      "cell_type": "code",
      "source": [
        "generator = Generator()"
      ],
      "metadata": {
        "id": "6jNSqvrk9mI8"
      },
      "execution_count": null,
      "outputs": []
    },
    {
      "cell_type": "code",
      "source": [
        "# Training\n",
        "\n",
        "lr = 0.001\n",
        "num_epochs = 300\n",
        "loss_function = nn.BCELoss()"
      ],
      "metadata": {
        "id": "zfLKGM5t9yKx"
      },
      "execution_count": null,
      "outputs": []
    },
    {
      "cell_type": "code",
      "source": [
        "optimizer_discriminator = torch.optim.Adam(discriminator.parameters(), lr=lr)\n",
        "optimizer_generator = torch.optim.Adam(generator.parameters(), lr=lr)"
      ],
      "metadata": {
        "id": "-5HDyzK5-Kdj"
      },
      "execution_count": null,
      "outputs": []
    },
    {
      "cell_type": "code",
      "source": [
        "for epoch in range(num_epochs):\n",
        "  for n, (real_samples, _) in enumerate(train_loader):\n",
        "    # data for discriminator\n",
        "    real_samples_labels = torch.ones((batch_size, 1))\n",
        "    latent_space_samples = torch.randn((batch_size, 2))\n",
        "    generated_samples = generator(latent_space_samples)\n",
        "    generated_samples_labels = torch.zeros((batch_size, 1))\n",
        "    all_samples = torch.cat((real_samples, generated_samples))\n",
        "    all_samples_labels = torch.cat(\n",
        "        (real_samples_labels, generated_samples_labels)\n",
        "    )\n",
        "\n",
        "    # dicriminator training\n",
        "    discriminator.zero_grad()\n",
        "    output_discriminator = discriminator(all_samples)\n",
        "    loss_discriminator = loss_function(output_discriminator, all_samples_labels)\n",
        "    loss_discriminator.backward()\n",
        "    optimizer_discriminator.step()\n",
        "\n",
        "    # data for generator\n",
        "    latent_space_samples = torch.randn((batch_size, 2))\n",
        "\n",
        "    # generator training\n",
        "    generator.zero_grad()\n",
        "    generated_samples = generator(latent_space_samples)\n",
        "    ####\n",
        "    #generated_samples_det = generated_samples.detach()\n",
        "    #plt.plot(generated_samples_det[:, 0], generated_samples_det[:, 1], \".\")\n",
        "    #plt.show()\n",
        "\n",
        "    output_discriminator_generated = discriminator(generated_samples)\n",
        "    loss_generator = loss_function(output_discriminator_generated, real_samples_labels)\n",
        "    loss_generator.backward()\n",
        "    optimizer_generator.step()\n",
        "\n",
        "    # loss printing\n",
        "    if epoch % 10 == 0 and n == batch_size - 1:\n",
        "      print(f\"Epoch: {epoch} Loss D.: {loss_discriminator}\")\n"
      ],
      "metadata": {
        "id": "u1Rg2wMd_A8z",
        "colab": {
          "base_uri": "https://localhost:8080/"
        },
        "outputId": "616d449d-8157-4969-9479-40d31e1a7ba7"
      },
      "execution_count": null,
      "outputs": [
        {
          "output_type": "stream",
          "name": "stdout",
          "text": [
            "Epoch: 0 Loss D.: 0.6430457234382629\n",
            "Epoch: 10 Loss D.: 0.6483147144317627\n",
            "Epoch: 20 Loss D.: 0.7144813537597656\n",
            "Epoch: 30 Loss D.: 0.6871196627616882\n",
            "Epoch: 40 Loss D.: 0.7196519374847412\n",
            "Epoch: 50 Loss D.: 0.9975457787513733\n",
            "Epoch: 60 Loss D.: 0.6593854427337646\n",
            "Epoch: 70 Loss D.: 0.6517081260681152\n",
            "Epoch: 80 Loss D.: 0.5889708995819092\n",
            "Epoch: 90 Loss D.: 0.6237560510635376\n",
            "Epoch: 100 Loss D.: 0.6440982818603516\n",
            "Epoch: 110 Loss D.: 0.6442384123802185\n",
            "Epoch: 120 Loss D.: 0.60379958152771\n",
            "Epoch: 130 Loss D.: 0.6870537400245667\n",
            "Epoch: 140 Loss D.: 0.6947921514511108\n",
            "Epoch: 150 Loss D.: 0.6285185813903809\n",
            "Epoch: 160 Loss D.: 0.6646751761436462\n",
            "Epoch: 170 Loss D.: 0.7106678485870361\n",
            "Epoch: 180 Loss D.: 0.6488059759140015\n",
            "Epoch: 190 Loss D.: 0.6059112548828125\n",
            "Epoch: 200 Loss D.: 0.6425750851631165\n",
            "Epoch: 210 Loss D.: 0.6849361062049866\n",
            "Epoch: 220 Loss D.: 0.6428881883621216\n",
            "Epoch: 230 Loss D.: 0.6433915495872498\n",
            "Epoch: 240 Loss D.: 0.6396036148071289\n",
            "Epoch: 250 Loss D.: 0.6052191257476807\n",
            "Epoch: 260 Loss D.: 0.6664961576461792\n",
            "Epoch: 270 Loss D.: 0.7333145141601562\n",
            "Epoch: 280 Loss D.: 0.7243727445602417\n",
            "Epoch: 290 Loss D.: 0.6725087761878967\n"
          ]
        }
      ]
    },
    {
      "cell_type": "code",
      "source": [
        "# Testing\n",
        "\n",
        "latent_space_samples = torch.randn(100, 2)\n",
        "generated_samples = generator(latent_space_samples)"
      ],
      "metadata": {
        "id": "3yzDt6y04GwZ"
      },
      "execution_count": null,
      "outputs": []
    },
    {
      "cell_type": "code",
      "source": [
        "# Ploting\n",
        "\n",
        "generated_samples = generated_samples.detach()\n",
        "plt.plot(generated_samples[:, 0], generated_samples[:, 1], \".\")"
      ],
      "metadata": {
        "colab": {
          "base_uri": "https://localhost:8080/",
          "height": 282
        },
        "id": "0TDRCX4M4x3Z",
        "outputId": "e8f48b74-6cb6-41e9-d415-8502afa474ab"
      },
      "execution_count": null,
      "outputs": [
        {
          "output_type": "execute_result",
          "data": {
            "text/plain": [
              "[<matplotlib.lines.Line2D at 0x7fd7b331f190>]"
            ]
          },
          "metadata": {},
          "execution_count": 16
        },
        {
          "output_type": "display_data",
          "data": {
            "text/plain": [
              "<Figure size 432x288 with 1 Axes>"
            ],
            "image/png": "[encoded data removed]"
          },
          "metadata": {
            "needs_background": "light"
          }
        }
      ]
    }
  ]
}