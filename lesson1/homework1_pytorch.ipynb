{
  "nbformat": 4,
  "nbformat_minor": 0,
  "metadata": {
    "colab": {
      "name": "homework1_pytorch.ipynb",
      "provenance": []
    },
    "kernelspec": {
      "name": "python3",
      "display_name": "Python 3"
    },
    "language_info": {
      "name": "python"
    }
  },
  "cells": [
    {
      "cell_type": "code",
      "execution_count": 1,
      "metadata": {
        "id": "WjdRFQZQk4MI"
      },
      "outputs": [],
      "source": [
        "import torch"
      ]
    },
    {
      "cell_type": "code",
      "source": [
        "# Создайте случайный FloatTensor размера 3x4x5"
      ],
      "metadata": {
        "id": "UdadllU5lPzi"
      },
      "execution_count": null,
      "outputs": []
    },
    {
      "cell_type": "code",
      "source": [
        "# Выведите его форму (shape)"
      ],
      "metadata": {
        "id": "Gqxm6ib2lQVN"
      },
      "execution_count": null,
      "outputs": []
    },
    {
      "cell_type": "code",
      "source": [
        "# Приведите его к форме 6 X 10"
      ],
      "metadata": {
        "id": "wmQlvvyrlQYk"
      },
      "execution_count": null,
      "outputs": []
    },
    {
      "cell_type": "code",
      "source": [
        "# Умножьте его на вектор [1, 4, 2, 2, 1] поэлементно"
      ],
      "metadata": {
        "id": "XjShQPY1lQdy"
      },
      "execution_count": null,
      "outputs": []
    },
    {
      "cell_type": "code",
      "source": [
        "# Умножьте тензор матрично на себя, чтобы результат был размерности 6x6"
      ],
      "metadata": {
        "id": "DGtQAnpjlQg8"
      },
      "execution_count": null,
      "outputs": []
    },
    {
      "cell_type": "code",
      "source": [
        "# Посчитайте производную функции y = x**3 + z - 75t в точке (1, 0.5, 2)"
      ],
      "metadata": {
        "id": "GThml7KulQj1"
      },
      "execution_count": null,
      "outputs": []
    },
    {
      "cell_type": "code",
      "source": [
        "# Создайте единичный тензор размера 5x6"
      ],
      "metadata": {
        "id": "qdRT565SlQm-"
      },
      "execution_count": null,
      "outputs": []
    },
    {
      "cell_type": "code",
      "source": [
        "# Переведите его в формат numpy"
      ],
      "metadata": {
        "id": "WzceDWYblQp8"
      },
      "execution_count": null,
      "outputs": []
    },
    {
      "cell_type": "code",
      "source": [
        "# Давайте теперь пооптимизируем: возьмите функцию y = x**w1 - 2 * x**2 + 5\n",
        "# Посчитайте "
      ],
      "metadata": {
        "id": "whN_45NTlQtN"
      },
      "execution_count": null,
      "outputs": []
    }
  ]
}