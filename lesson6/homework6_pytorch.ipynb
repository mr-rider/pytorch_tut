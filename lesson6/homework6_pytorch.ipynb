{
  "nbformat": 4,
  "nbformat_minor": 0,
  "metadata": {
    "colab": {
      "name": "homework6_pytorch.ipynb",
      "provenance": [],
      "collapsed_sections": []
    },
    "kernelspec": {
      "name": "python3",
      "display_name": "Python 3"
    },
    "language_info": {
      "name": "python"
    }
  },
  "cells": [
    {
      "cell_type": "markdown",
      "source": [
        "Самостоятельно обучить классификатор текстов на примере 20 newsgroups. \n",
        "На примере 20 newsgroups попробовать параметры сверток для классификации текстов."
      ],
      "metadata": {
        "id": "L0MNUasXZG1x"
      }
    },
    {
      "cell_type": "code",
      "source": [
        "import torch\n",
        "from torch.autograd import Variable\n",
        "import torch.nn as nn\n",
        "import torch.nn.functional as F\n",
        "from sklearn.datasets import fetch_20newsgroups\n",
        "from pprint import pprint\n",
        "import numpy as np\n",
        "from collections import Counter"
      ],
      "metadata": {
        "id": "IIyft55KY_tE"
      },
      "execution_count": null,
      "outputs": []
    },
    {
      "cell_type": "code",
      "source": [
        "from posixpath import split\n",
        "newsgroups_train = fetch_20newsgroups(subset='train')\n",
        "newsgroups_test = fetch_20newsgroups(subset='test')\n"
      ],
      "metadata": {
        "id": "637NTjK4bzOc"
      },
      "execution_count": null,
      "outputs": []
    },
    {
      "cell_type": "code",
      "source": [
        "newsgroups_train.target_names"
      ],
      "metadata": {
        "colab": {
          "base_uri": "https://localhost:8080/"
        },
        "id": "TGgE7CmIcLjF",
        "outputId": "350c5626-815e-4db9-95de-0ea0561e51fd"
      },
      "execution_count": null,
      "outputs": [
        {
          "output_type": "execute_result",
          "data": {
            "text/plain": [
              "['alt.atheism',\n",
              " 'comp.graphics',\n",
              " 'comp.os.ms-windows.misc',\n",
              " 'comp.sys.ibm.pc.hardware',\n",
              " 'comp.sys.mac.hardware',\n",
              " 'comp.windows.x',\n",
              " 'misc.forsale',\n",
              " 'rec.autos',\n",
              " 'rec.motorcycles',\n",
              " 'rec.sport.baseball',\n",
              " 'rec.sport.hockey',\n",
              " 'sci.crypt',\n",
              " 'sci.electronics',\n",
              " 'sci.med',\n",
              " 'sci.space',\n",
              " 'soc.religion.christian',\n",
              " 'talk.politics.guns',\n",
              " 'talk.politics.mideast',\n",
              " 'talk.politics.misc',\n",
              " 'talk.religion.misc']"
            ]
          },
          "metadata": {},
          "execution_count": 3
        }
      ]
    },
    {
      "cell_type": "code",
      "source": [
        "newsgroups_train.filenames.shape"
      ],
      "metadata": {
        "colab": {
          "base_uri": "https://localhost:8080/"
        },
        "id": "ZV6HmyLlclNv",
        "outputId": "e50b2aca-80f8-4250-af39-b62fdb93d35b"
      },
      "execution_count": null,
      "outputs": [
        {
          "output_type": "execute_result",
          "data": {
            "text/plain": [
              "(11314,)"
            ]
          },
          "metadata": {},
          "execution_count": 3
        }
      ]
    },
    {
      "cell_type": "code",
      "source": [
        "from numpy import vectorize\n",
        "from sklearn.feature_extraction.text import TfidfVectorizer\n",
        "categories = ['alt.atheism',\n",
        " 'comp.graphics',\n",
        " 'comp.os.ms-windows.misc',\n",
        " 'comp.sys.ibm.pc.hardware',\n",
        " 'comp.sys.mac.hardware',\n",
        " 'comp.windows.x',\n",
        " 'misc.forsale',\n",
        " 'rec.autos',\n",
        " 'rec.motorcycles',\n",
        " 'rec.sport.baseball',\n",
        " 'rec.sport.hockey',\n",
        " 'sci.crypt',\n",
        " 'sci.electronics',\n",
        " 'sci.med',\n",
        " 'sci.space',\n",
        " 'soc.religion.christian',\n",
        " 'talk.politics.guns',\n",
        " 'talk.politics.mideast',\n",
        " 'talk.politics.misc',\n",
        " 'talk.religion.misc']\n",
        " \n",
        "newsgroups_train = fetch_20newsgroups(subset='train', categories=categories)\n",
        "\n",
        "vectorizer = TfidfVectorizer()\n",
        "vectors = vectorizer.fit_transform(newsgroups_train.data)\n",
        "vectors.shape"
      ],
      "metadata": {
        "id": "QGe-P1sgdeqz",
        "colab": {
          "base_uri": "https://localhost:8080/"
        },
        "outputId": "49d7e413-6a94-4116-cac0-ec47f425a8ff"
      },
      "execution_count": null,
      "outputs": [
        {
          "output_type": "execute_result",
          "data": {
            "text/plain": [
              "(11314, 130107)"
            ]
          },
          "metadata": {},
          "execution_count": 4
        }
      ]
    },
    {
      "cell_type": "code",
      "source": [
        "from functools import lru_cache\n",
        "\n",
        "class NewsgroupsDataset(torch.utils.data.Dataset):\n",
        "\n",
        "  def __init__(self, txts, labels, w2index, used_length):\n",
        "    self._txts = txts\n",
        "    self._labels = labels\n",
        "    self._w2index = w2index\n",
        "    self._used_length = used_length\n",
        "    \n",
        "  def __len__(self):\n",
        "    return len(self._txts)\n",
        "    \n",
        "  @lru_cache(50000) \n",
        "  def encode_sentence(self, txt):\n",
        "    encoded = np.zeros(self._length, dtype=int)\n",
        "    enc1 = np.array([self._w2index.get(word, self._w2index[\"UNK\"]) for word in txt.split()])\n",
        "    length = min(self._length, len(enc1))\n",
        "    encoded[:length] = enc1[:length]\n",
        "    return encoded, length\n",
        "\n",
        "  def __getitem__(self, index):\n",
        "    encoded, length = self.encoded_sentence(self._txts[index])\n",
        "    return torch.from_numpy(encoded.astype(np.int32)), self._labels[index], length\n",
        "\n",
        "   "
      ],
      "metadata": {
        "id": "lXvgtDn0Cml7"
      },
      "execution_count": null,
      "outputs": []
    },
    {
      "cell_type": "code",
      "source": [
        "class OurNet(nn.Module):\n",
        "  def __init__(self, input_size, hidden_size, num_classes):\n",
        "    super().__init__()\n",
        "    self.layer_1 = nn.Linear(input_size, hidden_size, bias=True)\n",
        "    self.relu = nn.ReLU()\n",
        "    self.layer_2 = nn.Linear(hidden_size, hidden_size, bias=True)\n",
        "    self.output_layer = nn.Linear(hidden_size, num_classes, bias=True)\n",
        "\n",
        "  def forward(self, x):\n",
        "    out = self.layer_1(x)\n",
        "    out = self.relu(out)\n",
        "    out = self.layer_2(out)\n",
        "    out = self.relu(out)\n",
        "    out = self.output_layer(out)\n",
        "    return out"
      ],
      "metadata": {
        "id": "1E4MDQ1QTxPh"
      },
      "execution_count": null,
      "outputs": []
    },
    {
      "cell_type": "code",
      "source": [
        "vocab = Counter()\n",
        "\n",
        "for text in newsgroups_train.data:\n",
        "  for word in text.split(' '):\n",
        "    vocab[word.lower()]+=1\n",
        "\n",
        "for text in newsgroups_test.data:\n",
        "  for word in text.split(' '):\n",
        "    vocab[word.lower()]+=1\n",
        "\n",
        "print(\"Total words:\", len(vocab))"
      ],
      "metadata": {
        "colab": {
          "base_uri": "https://localhost:8080/"
        },
        "id": "r-hEOogFMmyf",
        "outputId": "417642ca-75ca-46d0-f381-d954fafc3808"
      },
      "execution_count": null,
      "outputs": [
        {
          "output_type": "stream",
          "name": "stdout",
          "text": [
            "Total words: 591946\n"
          ]
        }
      ]
    },
    {
      "cell_type": "code",
      "source": [
        "total_words = len(vocab)\n",
        "\n",
        "def get_word_2_index(vocab):\n",
        "  word2index = {}\n",
        "  for i, word in enumerate(vocab):\n",
        "    word2index[word.lower()] = i\n",
        "\n",
        "  return word2index\n",
        "\n",
        "word2index = get_word_2_index(vocab)\n",
        "\n",
        "print(\"Index of the word 'the':\", word2index['the'])"
      ],
      "metadata": {
        "colab": {
          "base_uri": "https://localhost:8080/"
        },
        "id": "EMppS602N4US",
        "outputId": "38cc4ecd-0523-408c-8388-c73df436df00"
      },
      "execution_count": null,
      "outputs": [
        {
          "output_type": "stream",
          "name": "stdout",
          "text": [
            "Index of the word 'the': 40\n"
          ]
        }
      ]
    },
    {
      "cell_type": "code",
      "source": [
        "def text_to_vector(text):\n",
        "  layer = np.zeros(total_words, dtype=float)\n",
        "  for word in text.split(' '):\n",
        "    layer[word2index[word.lower()]] += 1\n",
        "\n",
        "  return layer"
      ],
      "metadata": {
        "id": "9n6X6O6HQN-G"
      },
      "execution_count": null,
      "outputs": []
    },
    {
      "cell_type": "code",
      "source": [
        "def category_to_vector(category):\n",
        "  y = np.zeros((3), dtype=float)\n",
        "  if category == 0:\n",
        "    y[0] = 1.\n",
        "  elif category == 1:\n",
        "    y[1] = 1.\n",
        "  else:\n",
        "    y[2] = 1.\n",
        "\n",
        "  return y"
      ],
      "metadata": {
        "id": "t_319IsTQmSr"
      },
      "execution_count": null,
      "outputs": []
    },
    {
      "cell_type": "code",
      "source": [
        "def get_batch(df, i, batch_size):\n",
        "  batches = []\n",
        "  results = []\n",
        "  texts = df.data[i*batch_size: i*batch_size + batch_size]\n",
        "  categories = df.target[i*batch_size: i*batch_size+batch_size]\n",
        "\n",
        "  for text in texts:\n",
        "    layer = text_to_vector(text)\n",
        "    batches.append(layer)\n",
        "\n",
        "  for category in categories:\n",
        "    y = category_to_vector(category)\n",
        "    results.append(y)\n",
        "\n",
        "  return np.array(batches), np.array(results)\n",
        "\n",
        "\n",
        "print(\"Each batch has 100 texts and each matrix has 591946 elements (words):\", get_batch(newsgroups_train, 1, 100)[0].shape)"
      ],
      "metadata": {
        "id": "68GOomPPLGL5",
        "colab": {
          "base_uri": "https://localhost:8080/"
        },
        "outputId": "7656cb31-573d-4739-84e5-bcfbf8bcf4e4"
      },
      "execution_count": null,
      "outputs": [
        {
          "output_type": "stream",
          "name": "stdout",
          "text": [
            "Each batch has 100 texts and each matrix has 591946 elements (words): (100, 591946)\n"
          ]
        }
      ]
    },
    {
      "cell_type": "code",
      "source": [
        "input_size= 11314\n",
        "hidden_size = 128\n",
        "num_classes = 20\n",
        "learning_rate = 0.01\n",
        "\n",
        "net = OurNet(input_size, hidden_size, num_classes)\n",
        "criterion = nn.CrossEntropyLoss()\n",
        "optimizer = torch.optim.Adam(net.parameters(), lr=learning_rate)"
      ],
      "metadata": {
        "id": "ctChr4h-sQgr"
      },
      "execution_count": null,
      "outputs": []
    },
    {
      "cell_type": "code",
      "source": [
        "# Train\n",
        "num_epochs = 5\n",
        "batch_size = 100\n",
        "for epoch in range(num_epochs):\n",
        "  total_batch = int(len(newsgroups_train.data)/batch_size)\n",
        "  for i in range(total_batch):\n",
        "    batch_x, batch_y = get_batch(newsgroups_train, i, batch_size)\n",
        "    articles = Variable(torch.FloatTensor(batch_x))\n",
        "    labels = Variable(torch.FloatTensor(batch_y))\n",
        "\n",
        "    # Forward + Backward + Optimize\n",
        "    optimizer.zero_grad() # zero the gradient buffer\n",
        "    outputs = net(articles)\n",
        "    loss = criterion(outputs, labels)\n",
        "    loss.backward()\n",
        "    optimizer.step()\n",
        "\n",
        "    print('Epoch [%d/%d], Step [%d/%d], Loss: %.4f'(epoch+1, num_epochs, i+1, len(newsgroups_train.data)//batch_size, loss.data[0]))"
      ],
      "metadata": {
        "id": "YrkfrznOqYUn"
      },
      "execution_count": null,
      "outputs": []
    },
    {
      "cell_type": "code",
      "source": [
        ""
      ],
      "metadata": {
        "id": "zWOrb9SlqGbT"
      },
      "execution_count": null,
      "outputs": []
    },
    {
      "cell_type": "markdown",
      "source": [
        ""
      ],
      "metadata": {
        "id": "XPQ34hohYf5T"
      }
    }
  ]
}